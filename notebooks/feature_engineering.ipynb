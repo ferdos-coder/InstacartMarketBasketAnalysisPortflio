{
 "cells": [
  {
   "cell_type": "markdown",
   "metadata": {},
   "source": [
    "Import Libraries"
   ]
  },
  {
   "cell_type": "code",
   "execution_count": 9,
   "metadata": {},
   "outputs": [],
   "source": [
    "import pandas as pd\n",
    "import numpy as np\n",
    "from datetime import datetime"
   ]
  },
  {
   "cell_type": "markdown",
   "metadata": {},
   "source": [
    "Load Processed Data"
   ]
  },
  {
   "cell_type": "code",
   "execution_count": 10,
   "metadata": {},
   "outputs": [],
   "source": [
    "# بارگیری داده‌های پردازش‌شده\n",
    "orders = pd.read_csv(r\"E:\\data analysis project\\InstacartMarketBasketAnalysisPortflio\\data\\processed\\cleaned_orders.csv\")\n",
    "user_features = pd.read_csv(r\"E:\\data analysis project\\InstacartMarketBasketAnalysisPortflio\\data\\processed\\user_features.csv\")\n",
    "product_features = pd.read_csv(r\"E:\\data analysis project\\InstacartMarketBasketAnalysisPortflio\\data\\processed\\product_features.csv\")"
   ]
  },
  {
   "cell_type": "code",
   "execution_count": 13,
   "metadata": {},
   "outputs": [
    {
     "name": "stdout",
     "output_type": "stream",
     "text": [
      "['order_id', 'user_id', 'product_id', 'reordered']\n"
     ]
    }
   ],
   "source": [
    "print(orders.columns.tolist())"
   ]
  },
  {
   "cell_type": "markdown",
   "metadata": {},
   "source": [
    "Feature Engineering for Users"
   ]
  },
  {
   "cell_type": "code",
   "execution_count": 14,
   "metadata": {},
   "outputs": [],
   "source": [
    "# تعداد سفارشات هر کاربر (Total Orders)\n",
    "user_features['total_orders'] = orders.groupby('user_id')['order_id'].nunique().reset_index(drop=True)\n",
    "\n",
    "# تعداد محصولات سفارش‌داده‌شده توسط هر کاربر (Total Products Ordered)\n",
    "user_features['total_products_ordered'] = orders.groupby('user_id')['product_id'].count().reset_index(drop=True)\n",
    "\n",
    "# میانگین تعداد محصولات در هر سفارش (Avg Basket Size)\n",
    "user_features['avg_basket_size'] = user_features['total_products_ordered'] / user_features['total_orders']\n"
   ]
  },
  {
   "cell_type": "markdown",
   "metadata": {},
   "source": [
    "Feature Engineering for Products"
   ]
  },
  {
   "cell_type": "code",
   "execution_count": 15,
   "metadata": {},
   "outputs": [],
   "source": [
    "# تعداد سفارشات هر محصول (Order Count)\n",
    "product_features['order_count'] = orders.groupby('product_id')['order_id'].count().reset_index(drop=True)\n",
    "\n",
    "# تعداد سفارش‌های مجدد هر محصول (Reordered Count)\n",
    "product_features['reordered_count'] = orders[orders['reordered'] == 1].groupby('product_id')['order_id'].count().reset_index(drop=True)\n",
    "\n",
    "# نرخ سفارش مجدد (Reorder Rate)\n",
    "product_features['reorder_rate'] = product_features['reordered_count'] / product_features['order_count']"
   ]
  },
  {
   "cell_type": "markdown",
   "metadata": {},
   "source": [
    "Merge All Features"
   ]
  },
  {
   "cell_type": "code",
   "execution_count": 16,
   "metadata": {},
   "outputs": [],
   "source": [
    "# ادغام سفارشات با ویژگی‌های کاربر\n",
    "merged_data = pd.merge(orders, user_features, on='user_id', how='left')\n",
    "\n",
    "# ادغام نتیجه با ویژگی‌های محصول\n",
    "merged_data = pd.merge(merged_data, product_features, on='product_id', how='left')"
   ]
  },
  {
   "cell_type": "markdown",
   "metadata": {},
   "source": [
    "Final Feature Selection"
   ]
  },
  {
   "cell_type": "code",
   "execution_count": 17,
   "metadata": {},
   "outputs": [],
   "source": [
    "# انتخاب ستون‌های مرتبط برای مدل‌سازی\n",
    "model_ready_data = merged_data[[\n",
    "    'user_id', \n",
    "    'product_id', \n",
    "    'total_orders', \n",
    "    'total_products_ordered', \n",
    "    'avg_basket_size', \n",
    "    'order_count', \n",
    "    'reorder_rate', \n",
    "    'reordered'\n",
    "]]"
   ]
  }
 ],
 "metadata": {
  "kernelspec": {
   "display_name": "Python 3",
   "language": "python",
   "name": "python3"
  },
  "language_info": {
   "codemirror_mode": {
    "name": "ipython",
    "version": 3
   },
   "file_extension": ".py",
   "mimetype": "text/x-python",
   "name": "python",
   "nbconvert_exporter": "python",
   "pygments_lexer": "ipython3",
   "version": "3.13.0"
  }
 },
 "nbformat": 4,
 "nbformat_minor": 2
}
