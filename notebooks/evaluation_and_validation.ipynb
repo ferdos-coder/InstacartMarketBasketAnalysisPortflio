{
 "cells": [
  {
   "cell_type": "markdown",
   "metadata": {},
   "source": [
    "Import Libraries"
   ]
  },
  {
   "cell_type": "code",
   "execution_count": 1,
   "metadata": {},
   "outputs": [],
   "source": [
    "import pandas as pd\n",
    "import numpy as np\n",
    "import joblib\n",
    "from sklearn.utils import resample\n",
    "from sklearn.metrics import accuracy_score, precision_score, recall_score, f1_score, roc_auc_score, confusion_matrix, roc_curve\n",
    "import matplotlib.pyplot as plt\n",
    "from sklearn.model_selection import train_test_split\n",
    "import seaborn as sns"
   ]
  },
  {
   "cell_type": "markdown",
   "metadata": {},
   "source": [
    "Load Model-Ready Data"
   ]
  },
  {
   "cell_type": "code",
   "execution_count": 2,
   "metadata": {},
   "outputs": [],
   "source": [
    "model_ready_data = pd.read_csv(r\"E:\\data analysis project\\InstacartMarketBasketAnalysisPortflio\\data\\processed\\model_ready_data.csv\")"
   ]
  },
  {
   "cell_type": "markdown",
   "metadata": {},
   "source": [
    " Prepare Features and Labels"
   ]
  },
  {
   "cell_type": "code",
   "execution_count": 3,
   "metadata": {},
   "outputs": [],
   "source": [
    "# حذف کلیه ستون‌های غیرضروری\n",
    "X = model_ready_data.drop(columns=['reordered', 'eval_set', 'product_name']) \n",
    "y = model_ready_data['reordered']"
   ]
  },
  {
   "cell_type": "markdown",
   "metadata": {},
   "source": [
    "Sample 20% of the Data (Stratified Sampling)"
   ]
  },
  {
   "cell_type": "code",
   "execution_count": 4,
   "metadata": {},
   "outputs": [],
   "source": [
    "# انتخاب ۲۰ درصد نمونه‌ها به‌صورت تصادفی با حفظ ساختار DataFrame\n",
    "X_sampled, y_sampled = resample(\n",
    "    X, \n",
    "    y, \n",
    "    n_samples=int(len(X) * 0.2),  # انتخاب ۲۰ درصد نمونه‌ها\n",
    "    random_state=42,              # تنظیم seed برای تکرارپذیری\n",
    "    stratify=y                    # حفظ تعادل کلاس‌ها\n",
    ")\n"
   ]
  },
  {
   "cell_type": "markdown",
   "metadata": {},
   "source": [
    "Split Sampled Data into Train and Test Sets"
   ]
  },
  {
   "cell_type": "code",
   "execution_count": 5,
   "metadata": {},
   "outputs": [],
   "source": [
    "# تقسیم داده‌های نمونه‌برداری‌شده به مجموعه‌های آموزش و آزمون\n",
    "X_train, X_test, y_train, y_test = train_test_split(\n",
    "    X_sampled, \n",
    "    y_sampled, \n",
    "    test_size=0.2,\n",
    "    random_state=42\n",
    ")"
   ]
  },
  {
   "cell_type": "markdown",
   "metadata": {},
   "source": [
    "Load the Trained Model"
   ]
  },
  {
   "cell_type": "code",
   "execution_count": 6,
   "metadata": {},
   "outputs": [],
   "source": [
    "model = joblib.load(r\"E:\\data analysis project\\InstacartMarketBasketAnalysisPortflio\\models\\optimized_model.pkl\")"
   ]
  },
  {
   "cell_type": "markdown",
   "metadata": {},
   "source": [
    "Evaluate the Model"
   ]
  },
  {
   "cell_type": "code",
   "execution_count": 13,
   "metadata": {},
   "outputs": [],
   "source": [
    "# پیش‌بینی بر روی داده‌های آزمون\n",
    "model_path = r'E:\\data analysis project\\InstacartMarketBasketAnalysisPortflio\\models\\optimized_model.pkl'\n",
    "trained_model = joblib.load(model_path)\n",
    "y_pred = trained_model.predict(X_test)"
   ]
  },
  {
   "cell_type": "code",
   "execution_count": 14,
   "metadata": {},
   "outputs": [],
   "source": [
    "# محاسبه معیارهای ارزیابی\n",
    "accuracy = accuracy_score(y_test, y_pred)\n",
    "precision = precision_score(y_test, y_pred)\n",
    "recall = recall_score(y_test, y_pred)\n",
    "f1 = f1_score(y_test, y_pred)"
   ]
  },
  {
   "cell_type": "code",
   "execution_count": 15,
   "metadata": {},
   "outputs": [
    {
     "name": "stdout",
     "output_type": "stream",
     "text": [
      "Accuracy: 0.7360\n",
      "Precision: 0.7255\n",
      "Recall: 0.8880\n",
      "F1 Score: 0.7985\n"
     ]
    }
   ],
   "source": [
    "# نمایش نتایج ارزیابی\n",
    "print(f'Accuracy: {accuracy:.4f}')\n",
    "print(f'Precision: {precision:.4f}')\n",
    "print(f'Recall: {recall:.4f}')\n",
    "print(f'F1 Score: {f1:.4f}')"
   ]
  }
 ],
 "metadata": {
  "kernelspec": {
   "display_name": "Python 3",
   "language": "python",
   "name": "python3"
  },
  "language_info": {
   "codemirror_mode": {
    "name": "ipython",
    "version": 3
   },
   "file_extension": ".py",
   "mimetype": "text/x-python",
   "name": "python",
   "nbconvert_exporter": "python",
   "pygments_lexer": "ipython3",
   "version": "3.13.0"
  }
 },
 "nbformat": 4,
 "nbformat_minor": 2
}
